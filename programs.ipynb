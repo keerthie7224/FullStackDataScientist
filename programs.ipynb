{
 "cells": [
  {
   "cell_type": "code",
   "execution_count": 9,
   "id": "5e2c87bf",
   "metadata": {},
   "outputs": [
    {
     "name": "stdout",
     "output_type": "stream",
     "text": [
      "[2, 3, 5, 7, 11, 13, 17, 19] "
     ]
    }
   ],
   "source": [
    "'''Prime Number Finder\n",
    " \n",
    "   * Function that returns all prime numbers up to `n`.\n",
    "   * Input: `n = 20`\n",
    "   * Output: `[2, 3, 5, 7, 11, 13, 17, 19]'''\n",
    "def func(n):\n",
    "    l=[]\n",
    "    for num in range(2,n+1):\n",
    "        for i in range(2,num):\n",
    "            if(num%i==0):\n",
    "                break\n",
    "        else:\n",
    "            l.append(num)\n",
    "    print(l,end=\" \")\n",
    "func(20)\n"
   ]
  },
  {
   "cell_type": "code",
   "execution_count": 26,
   "id": "c8787cb4",
   "metadata": {},
   "outputs": [
    {
     "data": {
      "text/plain": [
       "True"
      ]
     },
     "execution_count": 26,
     "metadata": {},
     "output_type": "execute_result"
    }
   ],
   "source": [
    "'''. Palindrome Checker\n",
    " \n",
    "   * Check if a string is palindrome (ignoring spaces & case).\n",
    "   * Input: `\"Never odd or even\"`\n",
    "   * Output: `True`'''\n",
    "def palindrome(str1):\n",
    "    a=''.join(reversed(str1))\n",
    "    if(a==str1):\n",
    "        return True\n",
    "    else:\n",
    "        return False\n",
    "str2=input()\n",
    "str2=str2.replace(\" \",\"\").lower()\n",
    "palindrome(str2)"
   ]
  },
  {
   "cell_type": "code",
   "execution_count": 32,
   "id": "9831c3ae",
   "metadata": {},
   "outputs": [
    {
     "data": {
      "text/plain": [
       "True"
      ]
     },
     "execution_count": 32,
     "metadata": {},
     "output_type": "execute_result"
    }
   ],
   "source": [
    "def func1(str1):\n",
    "    ptr1=0\n",
    "    ptr2=len(str1)-1\n",
    "    while ptr1<ptr2:\n",
    "        if(str1[ptr1]!=str1[ptr2]):\n",
    "            return False\n",
    "        ptr1+=1\n",
    "        ptr2-=1\n",
    "    return True\n",
    "str1=input()\n",
    "str2=str2.replace(\" \",\"\").lower()\n",
    "func1(str2)\n",
    "\n",
    "        \n",
    "\n",
    "\n"
   ]
  },
  {
   "cell_type": "code",
   "execution_count": 36,
   "id": "05592ece",
   "metadata": {},
   "outputs": [
    {
     "data": {
      "text/plain": [
       "True"
      ]
     },
     "execution_count": 36,
     "metadata": {},
     "output_type": "execute_result"
    }
   ],
   "source": [
    "def anagrams(s1,s2):\n",
    "    if(sorted(s1)==sorted(s2)):\n",
    "        return True\n",
    "    else:\n",
    "        return False\n",
    "str1=input()\n",
    "str2=input()\n",
    "anagrams(str1,str2)\n"
   ]
  },
  {
   "cell_type": "code",
   "execution_count": 42,
   "id": "b3153ad9",
   "metadata": {},
   "outputs": [
    {
     "name": "stdout",
     "output_type": "stream",
     "text": [
      "2 3\n"
     ]
    }
   ],
   "source": [
    "'''nt Vowels & Consonants\n",
    " \n",
    "   * Return count of vowels & consonants.\n",
    "   * Input: `\"hello\"`\n",
    "   * Output: `Vowels=2, Consonants=3`'''\n",
    "def countr(str1):\n",
    "    cnt1=0\n",
    "    cnt2=0\n",
    "    vowels='aeiou'\n",
    "    for ch in str1:\n",
    "        if ch.isalpha():\n",
    "            if ch in vowels:\n",
    "                cnt1+=1\n",
    "            else:\n",
    "                cnt2+=1\n",
    "    print(cnt1,cnt2)\n",
    "str4=input()\n",
    "str4=str4.lower()\n",
    "countr(str4)\n",
    "        \n"
   ]
  },
  {
   "cell_type": "code",
   "execution_count": 48,
   "id": "f9011270",
   "metadata": {},
   "outputs": [
    {
     "name": "stdout",
     "output_type": "stream",
     "text": [
      "amazing\n"
     ]
    }
   ],
   "source": [
    "'''5. Longest Word Finder\n",
    " \n",
    "* Return longest word in a sentence.\n",
    "* Input: `\"Python is amazing\"`\n",
    "* Output: `\"amazing\"`'''\n",
    "def longest(str1):\n",
    "    words=str1.split()\n",
    "    max=\"\"\n",
    "    for word in words:\n",
    "        if(len(word)>len(max)):\n",
    "            max=word\n",
    "    return max\n",
    "str2=input()\n",
    "print(longest(str2))\n",
    "        \n",
    "\n",
    "\n"
   ]
  },
  {
   "cell_type": "code",
   "execution_count": 4,
   "id": "441ca96b",
   "metadata": {},
   "outputs": [
    {
     "name": "stdout",
     "output_type": "stream",
     "text": [
      "Random pswrd `$Fi>c$\"%*\n"
     ]
    }
   ],
   "source": [
    "import random\n",
    "import string\n",
    "length=10\n",
    "characters=string.ascii_letters + string.digits + string.punctuation\n",
    "pswrd=''.join(random.choice(characters) for i in range(length))\n",
    "print('Random pswrd',pswrd)\n",
    "\n"
   ]
  },
  {
   "cell_type": "code",
   "execution_count": 9,
   "id": "a48307d0",
   "metadata": {},
   "outputs": [
    {
     "name": "stdout",
     "output_type": "stream",
     "text": [
      "5.0\n",
      "0.0\n",
      "24\n",
      "1.0\n"
     ]
    }
   ],
   "source": [
    "import math\n",
    "print(math.sqrt(25))\n",
    "print(math.sin(0))\n",
    "print(math.factorial(4))\n",
    "print(math.cos(0))\n",
    "\n"
   ]
  },
  {
   "cell_type": "code",
   "execution_count": 11,
   "id": "9f5d80bc",
   "metadata": {},
   "outputs": [
    {
     "name": "stdout",
     "output_type": "stream",
     "text": [
      "Counter({'cat': 2, 'dog': 1})\n"
     ]
    }
   ],
   "source": [
    "import collections\n",
    "sentence=input()\n",
    "words=sentence.split()\n",
    "print(collections.Counter(words))"
   ]
  },
  {
   "cell_type": "code",
   "execution_count": 17,
   "id": "61fb46cc",
   "metadata": {},
   "outputs": [
    {
     "name": "stdout",
     "output_type": "stream",
     "text": [
      "Cloudy\n",
      "46\n"
     ]
    }
   ],
   "source": [
    "import random\n",
    "weather_list=[\"Sunny\",\"Rainy\",\"Cloudy\",\"Windy\",\"Stormy\",\"Snowy\"]\n",
    "temp=[30,32,47,38,35,46]\n",
    "print(random.choice(weather_list))\n",
    "print(random.choice(temp))"
   ]
  },
  {
   "cell_type": "code",
   "execution_count": 21,
   "id": "4b16fcc8",
   "metadata": {},
   "outputs": [
    {
     "name": "stdout",
     "output_type": "stream",
     "text": [
      "5\n",
      "4\n",
      "3\n",
      "2\n",
      "1\n",
      "Time's Up\n"
     ]
    }
   ],
   "source": [
    "import time\n",
    "n=5\n",
    "while n>0:\n",
    "    print(n)\n",
    "    time.sleep(2)\n",
    "    n-=1\n",
    "print(\"Time's Up\")\n"
   ]
  },
  {
   "cell_type": "code",
   "execution_count": 5,
   "id": "05a9cf3f",
   "metadata": {},
   "outputs": [
    {
     "name": "stdout",
     "output_type": "stream",
     "text": [
      "Deposited:100\n",
      "withdrew:400\n",
      "Balance:0\n"
     ]
    }
   ],
   "source": [
    "class BankBalance:\n",
    "    def __init__(self,balance=0,owner=None):\n",
    "        self.balance=balance\n",
    "        self.owner=owner\n",
    "    def deposit(self,amount):\n",
    "        self.balance+=amount\n",
    "        print(f\"Deposited:{amount}\")\n",
    "    def withdrawal(self,amount):\n",
    "        if(amount<=self.balance):\n",
    "            self.balance-=amount\n",
    "            print(f\"withdrew:{amount}\")\n",
    "        else:\n",
    "            print(\"insufficient Balance\")\n",
    "    def get_balance(self):\n",
    "        return f\"Balance:{self.balance}\"\n",
    "acc=BankBalance(300,'Alice')\n",
    "acc.deposit(100)\n",
    "acc.withdrawal(400)\n",
    "print(acc.get_balance())\n"
   ]
  },
  {
   "cell_type": "code",
   "execution_count": 7,
   "id": "18c777c5",
   "metadata": {},
   "outputs": [
    {
     "name": "stdout",
     "output_type": "stream",
     "text": [
      "Average:37.5\n",
      "after Adding:[90, 10, 20, 30, 40]\n",
      "Highest:90\n"
     ]
    }
   ],
   "source": [
    "'''2. Student Class with Average\n",
    " \n",
    "Attributes:\n",
    " \n",
    "* name → student name\n",
    "* marks → list of student marks [90, 80, 85]\n",
    " \n",
    "Methods:\n",
    " \n",
    "* get_average() → returns average marks\n",
    "* add_mark(mark) → add new score\n",
    "* get_highest() → return highest mark\n",
    "* get_lowest() → return lowest mark\n",
    " \n",
    "Example:\n",
    " \n",
    "python\n",
    "s = Student(\"Tom\", [90, 80, 85])\n",
    "print(s.get_average())   # (90+80+85)/3 = 85.0\n",
    "s.add_mark(95)           # marks = [90,80,85,95]\n",
    "print(s.get_highest())   # 95\n",
    "\n",
    " \n",
    "Output:'''\n",
    "class Student:\n",
    "    def __init__(self,name=None,marks=None):\n",
    "        self.name=name\n",
    "        self.marks=marks\n",
    "    def get_average(self):\n",
    "        if(len(self.marks)>0):\n",
    "            k=sum(self.marks)/len(self.marks)\n",
    "            print(f\"Average:{k}\")\n",
    "        else:\n",
    "             (\"no marks available\")\n",
    "    def add_mark(self,mark):\n",
    "        self.marks.append(mark)\n",
    "        print(f\"after Adding:{self.marks}\")\n",
    "    def get_highest(self):\n",
    "        if(len(self.marks)>0):\n",
    "               highest= max(self.marks)\n",
    "               print(f\"Highest:{highest}\")\n",
    "        else:\n",
    "             print(\"No marks available\")\n",
    "a=Student('Keerthi',[90,10,20,30])\n",
    "a.get_average()\n",
    "a.add_mark(40)\n",
    "a.get_highest()\n",
    "\n",
    "\n",
    "\n"
   ]
  },
  {
   "cell_type": "code",
   "execution_count": 13,
   "id": "bc7950d9",
   "metadata": {},
   "outputs": [
    {
     "name": "stdout",
     "output_type": "stream",
     "text": [
      "0.056818181818181816\n"
     ]
    }
   ],
   "source": [
    "'''3. Employee Bonus System\n",
    " \n",
    "Attributes:\n",
    " \n",
    "* name → employee name\n",
    "* salary → base salary\n",
    "* role → role of employee (e.g., Manager, Developer, Intern)\n",
    " \n",
    "Methods:\n",
    " \n",
    "* bonus() → calculates bonus depending on role:\n",
    " \n",
    "  * Manager → 20% of salary\n",
    "  * Developer → 10% of salary\n",
    "  * Intern → 5% of salary\n",
    " \n",
    "Example:\n",
    " \n",
    "python\n",
    "m = Manager(\"Alice\", 50000)\n",
    "print(m.bonus())'''\n",
    "class Bon:\n",
    "    def __init__(self,name=None,salary=0,role=None):\n",
    "        self.name=name\n",
    "        self.salary=salary\n",
    "        self.role=role\n",
    "    def bonus(self):\n",
    "        if(self.role=='Manager'):\n",
    "            print((20/self.salary)*100)\n",
    "        elif(self.role=='Developer'):\n",
    "            print((10/self.salary)*100)\n",
    "        elif(self.role=='Intern'):\n",
    "            print((5/self.salary)*100)\n",
    "a=Bon('Keer',8800,'Intern')\n",
    "a.bonus()\n",
    "\n"
   ]
  },
  {
   "cell_type": "code",
   "execution_count": null,
   "id": "fe667ff7",
   "metadata": {},
   "outputs": [],
   "source": []
  }
 ],
 "metadata": {
  "kernelspec": {
   "display_name": "Python 3",
   "language": "python",
   "name": "python3"
  },
  "language_info": {
   "codemirror_mode": {
    "name": "ipython",
    "version": 3
   },
   "file_extension": ".py",
   "mimetype": "text/x-python",
   "name": "python",
   "nbconvert_exporter": "python",
   "pygments_lexer": "ipython3",
   "version": "3.11.0"
  }
 },
 "nbformat": 4,
 "nbformat_minor": 5
}
