{
 "cells": [
  {
   "cell_type": "code",
   "execution_count": null,
   "id": "e11b9eba",
   "metadata": {},
   "outputs": [
    {
     "ename": "",
     "evalue": "",
     "output_type": "error",
     "traceback": [
      "\u001b[1;31mRunning cells with 'venv (Python 3.11.0)' requires the ipykernel package.\n",
      "\u001b[1;31mInstall 'ipykernel' into the Python environment. \n",
      "\u001b[1;31mCommand: 'conda install -p c:\\Users\\keert\\OneDrive\\Desktop\\TechWorks\\venv ipykernel --update-deps --force-reinstall'"
     ]
    }
   ],
   "source": [
    "print(\"hello\")"
   ]
  },
  {
   "cell_type": "code",
   "execution_count": 1,
   "id": "1ceb9707",
   "metadata": {},
   "outputs": [
    {
     "name": "stdout",
     "output_type": "stream",
     "text": [
      "hello\n"
     ]
    }
   ],
   "source": [
    "print(\"hello\")"
   ]
  },
  {
   "cell_type": "code",
   "execution_count": 3,
   "id": "5db49023",
   "metadata": {},
   "outputs": [
    {
     "name": "stdout",
     "output_type": "stream",
     "text": [
      "Total Bill= f{a}*{b}+{c}*{d}+{e}*{f}= 44\n"
     ]
    }
   ],
   "source": [
    "a,b,c,d,e,f=map(int,input().split())\n",
    "total=(a*b)+(c*d)+(e*f)\n",
    "print(\"Total Bill=\",\"f{a}*{b}+{c}*{d}+{e}*{f}=\",total)"
   ]
  },
  {
   "cell_type": "code",
   "execution_count": 1,
   "id": "6d231a3f",
   "metadata": {},
   "outputs": [
    {
     "name": "stdout",
     "output_type": "stream",
     "text": [
      "[12, 24, 35, 88, 120, 155]\n"
     ]
    }
   ],
   "source": [
    "set1={12,24,35,24,88,120,155,88,120,155}\n",
    "print(sorted(set1))"
   ]
  },
  {
   "cell_type": "code",
   "execution_count": 4,
   "id": "2c6d990e",
   "metadata": {},
   "outputs": [
    {
     "name": "stdout",
     "output_type": "stream",
     "text": [
      "True\n"
     ]
    }
   ],
   "source": [
    "a=int(input())\n",
    "cnt=0\n",
    "for i in range(1,a+1):\n",
    "    if(a%i==0):\n",
    "        cnt=cnt+1\n",
    "if(cnt==2):\n",
    "    print('True')\n",
    "else:\n",
    "    print('False')\n",
    "\n"
   ]
  },
  {
   "cell_type": "code",
   "execution_count": 29,
   "id": "60c660fb",
   "metadata": {},
   "outputs": [
    {
     "name": "stdout",
     "output_type": "stream",
     "text": [
      "6\n"
     ]
    }
   ],
   "source": [
    "list1=[1,5,6,11,3,4]\n",
    "max=0\n",
    "slar=-1\n",
    "for i in range(1,len(list1)):\n",
    "    if(list1[i]>max):\n",
    "        max=list1[i]\n",
    "for j in range(1,len(list1)):\n",
    "    if(list1[j]>slar and list1[j]!=max):\n",
    "        slar=list1[j]\n",
    "print(slar)\n",
    "\n",
    "\n"
   ]
  },
  {
   "cell_type": "code",
   "execution_count": 31,
   "id": "175c213f",
   "metadata": {},
   "outputs": [
    {
     "name": "stdout",
     "output_type": "stream",
     "text": [
      "25\n"
     ]
    }
   ],
   "source": [
    "\n",
    "cnt=0\n",
    "for i in range(1,51):\n",
    "    if(i%2==0):\n",
    "        cnt=cnt+1\n",
    "print(cnt)"
   ]
  },
  {
   "cell_type": "code",
   "execution_count": 40,
   "id": "27adfdda",
   "metadata": {},
   "outputs": [
    {
     "name": "stdout",
     "output_type": "stream",
     "text": [
      "2\n",
      "3\n"
     ]
    }
   ],
   "source": [
    "str=input()\n",
    "cnt1=0\n",
    "cnt2=0\n",
    "for ch in str:\n",
    "    if(ch.islower()):\n",
    "        cnt1=cnt1+1\n",
    "    elif(ch.isupper()):\n",
    "        cnt2=cnt2+1\n",
    "print(cnt1)\n",
    "print(cnt2)"
   ]
  },
  {
   "cell_type": "code",
   "execution_count": 5,
   "id": "d5426213",
   "metadata": {},
   "outputs": [
    {
     "name": "stdout",
     "output_type": "stream",
     "text": [
      "The strings are anagrams\n"
     ]
    }
   ],
   "source": [
    "str=input()\n",
    "str1=input()\n",
    "def isanagrams(str,str1):\n",
    "    return sorted(str)==sorted(str1)\n",
    "if(isanagrams(str,str1)):\n",
    "    print('The strings are anagrams')\n",
    "else:\n",
    "    print('String are not anagrams')\n",
    "\n",
    "            \n",
    "\n",
    "\n"
   ]
  },
  {
   "cell_type": "code",
   "execution_count": 8,
   "id": "daa06b3b",
   "metadata": {},
   "outputs": [
    {
     "name": "stdout",
     "output_type": "stream",
     "text": [
      "Not perfect number\n"
     ]
    }
   ],
   "source": [
    "n=int(input()) \n",
    "sum=0\n",
    "for i in range(1,n):\n",
    "    if(n%i==0):\n",
    "        sum=sum+i \n",
    "if(sum==n):\n",
    "    print('perfect number')\n",
    "else:\n",
    "    print('Not perfect number')"
   ]
  },
  {
   "cell_type": "code",
   "execution_count": 10,
   "id": "820e340b",
   "metadata": {},
   "outputs": [
    {
     "name": "stdout",
     "output_type": "stream",
     "text": [
      "Fail\n"
     ]
    }
   ],
   "source": [
    "a,b,c,d,e=map(int,input().split())\n",
    "avg=(a+b+c+d+e)/5\n",
    "if(avg>=90):\n",
    "    print('A')\n",
    "elif(avg>=75):\n",
    "    print('B')\n",
    "elif(avg>=50):\n",
    "    print('C')\n",
    "elif(avg<50):\n",
    "    print('Fail')"
   ]
  },
  {
   "cell_type": "code",
   "execution_count": 13,
   "id": "e9c4cb97",
   "metadata": {},
   "outputs": [
    {
     "name": "stdout",
     "output_type": "stream",
     "text": [
      "2 3 5 7 11 13 17 19 23 29 31 37 41 43 47 53 59 61 67 71 73 79 83 89 97 "
     ]
    }
   ],
   "source": [
    "for num in range(2,101):\n",
    "    for i in range(2,num):\n",
    "        if(num%i==0):\n",
    "            break\n",
    "    else:\n",
    "        print(num,end=\" \")\n",
    "\n"
   ]
  },
  {
   "cell_type": "code",
   "execution_count": 14,
   "id": "8773ba70",
   "metadata": {},
   "outputs": [
    {
     "name": "stdout",
     "output_type": "stream",
     "text": [
      "No. of words 2\n"
     ]
    }
   ],
   "source": [
    "def countwords(sentence):\n",
    "    count=0\n",
    "    inword=False\n",
    "\n",
    "    for ch in sentence:\n",
    "        if ch!=\" \" and not inword:\n",
    "            count=count+1\n",
    "            inword=True\n",
    "        elif ch==\" \":\n",
    "            inword=False\n",
    "    return count\n",
    "sentence=input('Enter a sentence')\n",
    "print('No. of words',countwords(sentence))"
   ]
  },
  {
   "cell_type": "code",
   "execution_count": 19,
   "id": "5b2cfe0f",
   "metadata": {},
   "outputs": [
    {
     "name": "stdout",
     "output_type": "stream",
     "text": [
      "90.0\n"
     ]
    }
   ],
   "source": [
    "age=int(input())\n",
    "price=int(input())\n",
    "student_status=input()\n",
    "if(age>=60):\n",
    "    price=price-(10/price)*100\n",
    "elif(student_status=='yes'):\n",
    "    price=price-(20/price)*100\n",
    "print(price)\n",
    "    "
   ]
  },
  {
   "cell_type": "code",
   "execution_count": 22,
   "id": "6b537d92",
   "metadata": {},
   "outputs": [
    {
     "name": "stdout",
     "output_type": "stream",
     "text": [
      "700\n"
     ]
    }
   ],
   "source": [
    "cart=int(input())\n",
    "if(cart>500):\n",
    "    print(cart)\n",
    "else:\n",
    "    print(cart+50)\n"
   ]
  },
  {
   "cell_type": "code",
   "execution_count": null,
   "id": "c149f15d",
   "metadata": {},
   "outputs": [],
   "source": []
  },
  {
   "cell_type": "code",
   "execution_count": 26,
   "id": "3cd44e60",
   "metadata": {},
   "outputs": [
    {
     "name": "stdout",
     "output_type": "stream",
     "text": [
      "Fail\n"
     ]
    }
   ],
   "source": [
    "marks=int(input())\n",
    "if(marks>=90 and marks<=100):\n",
    "    print('A')\n",
    "elif(marks>=75 and marks<=89):\n",
    "    print('B')\n",
    "elif(marks>=50 and marks<=74):\n",
    "    print('C')\n",
    "elif(marks<50):\n",
    "    print('Fail')"
   ]
  },
  {
   "cell_type": "code",
   "execution_count": 28,
   "id": "87cd541d",
   "metadata": {},
   "outputs": [
    {
     "name": "stdout",
     "output_type": "stream",
     "text": [
      "502.99600798403196\n"
     ]
    }
   ],
   "source": [
    "bill=int(input())\n",
    "if(bill<500):\n",
    "    print(bill+(5/bill)*100)\n",
    "elif(bill>=500 and bill<=1000):\n",
    "    print(bill+(10/bill)*100)\n",
    "elif(bill>1000):\n",
    "    print(bill+(15/bill)*100)\n",
    "    "
   ]
  },
  {
   "cell_type": "code",
   "execution_count": 31,
   "id": "099c3d7c",
   "metadata": {},
   "outputs": [
    {
     "name": "stdout",
     "output_type": "stream",
     "text": [
      "500\n"
     ]
    }
   ],
   "source": [
    "months=int(input())\n",
    "if(months<6):\n",
    "    print(500)\n",
    "elif(months>=6 and months<12):\n",
    "    print(2700)\n",
    "elif(months==12):\n",
    "    print(5000)"
   ]
  },
  {
   "cell_type": "code",
   "execution_count": 34,
   "id": "6009e9ac",
   "metadata": {},
   "outputs": [
    {
     "name": "stdout",
     "output_type": "stream",
     "text": [
      "allowed for exam\n"
     ]
    }
   ],
   "source": [
    "classes_attended=int(input())\n",
    "total_classes=int(input())\n",
    "per=(classes_attended/total_classes)*100\n",
    "if(per>=75):\n",
    "    print('allowed for exam')\n",
    "else:\n",
    "    print('Not allowed')"
   ]
  },
  {
   "cell_type": "code",
   "execution_count": 36,
   "id": "33c0f42f",
   "metadata": {},
   "outputs": [
    {
     "name": "stdout",
     "output_type": "stream",
     "text": [
      "not succesful\n"
     ]
    }
   ],
   "source": [
    "amount=int(input())\n",
    "if(amount%100==0):\n",
    "    print('Transaction succcesful')\n",
    "else:\n",
    "    print(\"not succesful\")"
   ]
  },
  {
   "cell_type": "code",
   "execution_count": null,
   "id": "0e58ffb0",
   "metadata": {},
   "outputs": [],
   "source": []
  }
 ],
 "metadata": {
  "kernelspec": {
   "display_name": "Python 3",
   "language": "python",
   "name": "python3"
  },
  "language_info": {
   "codemirror_mode": {
    "name": "ipython",
    "version": 3
   },
   "file_extension": ".py",
   "mimetype": "text/x-python",
   "name": "python",
   "nbconvert_exporter": "python",
   "pygments_lexer": "ipython3",
   "version": "3.11.0"
  }
 },
 "nbformat": 4,
 "nbformat_minor": 5
}
