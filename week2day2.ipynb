{
 "cells": [
  {
   "cell_type": "code",
   "execution_count": null,
   "id": "75935dc9",
   "metadata": {},
   "outputs": [
    {
     "name": "stdout",
     "output_type": "stream",
     "text": [
      "The no. of words 4\n"
     ]
    }
   ],
   "source": [
    "'''1. Problem: Given a text file, count the total number of words.'''\n",
    "filename=\"file.txt\"\n",
    "try:\n",
    "    with open(filename,\"r\") as file:\n",
    "        text=file.read()\n",
    "        words=text.split()\n",
    "        print(\"The no. of words\",len(words))\n",
    "except FileNotFoundError:\n",
    "    print(\"file not found\")\n",
    "\n",
    "\n",
    "\n",
    "\n",
    "\n"
   ]
  },
  {
   "cell_type": "code",
   "execution_count": null,
   "id": "80fd2563",
   "metadata": {},
   "outputs": [
    {
     "name": "stdout",
     "output_type": "stream",
     "text": [
      "weak password(too short)\n"
     ]
    }
   ],
   "source": [
    "pswrd=input(\"Enter Password\")\n",
    "has_lower=False\n",
    "has_upper=False\n",
    "has_digits=False\n",
    "has_special=False\n",
    "specialcharacters=\"!@#$%^&*()+-{}[]\"\n",
    "if len(pswrd)>=8:\n",
    "    for ch in pswrd:\n",
    "        if ch.islower():\n",
    "            has_lower=True\n",
    "        elif ch.isupper():\n",
    "            has_upper=True\n",
    "        elif ch.isdigit():\n",
    "            has_digits=True\n",
    "        elif ch in specialcharacters:\n",
    "            has_special=True\n",
    "    if(has_lower and has_upper and has_digits and has_digits):\n",
    "        print(\"Strong password\")\n",
    "    else:\n",
    "        print(\"weak password\")\n",
    "else:\n",
    "    print(\"weak password(too short)\")\n",
    "    \n",
    "\n"
   ]
  },
  {
   "cell_type": "code",
   "execution_count": null,
   "id": "50dc7499",
   "metadata": {},
   "outputs": [
    {
     "name": "stdout",
     "output_type": "stream",
     "text": [
      "not divisible by zero\n"
     ]
    }
   ],
   "source": [
    "a=int(input())\n",
    "b=int(input())\n",
    "choice=input(\"Enter + or - or * or /\")\n",
    "match choice:\n",
    "    case \"+\":\n",
    "        print(\"Addition:\",a+b)\n",
    "    case \"-\":\n",
    "        print(\"Subtrcation:\",a-b)\n",
    "    case \"*\":\n",
    "        print(\"Multiplication:\",a*b)\n",
    "    case \"/\":\n",
    "        if(b!=0):\n",
    "            print(\"Division:\",a/b)\n",
    "        else:\n",
    "            print(\"not divisible by zero\")\n",
    "\n"
   ]
  },
  {
   "cell_type": "code",
   "execution_count": null,
   "id": "a467fb25",
   "metadata": {},
   "outputs": [
    {
     "name": "stdout",
     "output_type": "stream",
     "text": [
      "duplicate a\n",
      "duplicate b\n"
     ]
    }
   ],
   "source": [
    "list1=[\"a\",\"b\",\"c\",\"a\",\"b\"]\n",
    "for i in range(len(list1)):\n",
    "    for j in range(i+1,len(list1)):\n",
    "        if(list1[i]==list1[j]):\n",
    "            print(\"duplicate\",list1[i])"
   ]
  },
  {
   "cell_type": "code",
   "execution_count": null,
   "id": "e9071bfd",
   "metadata": {},
   "outputs": [
    {
     "name": "stdout",
     "output_type": "stream",
     "text": [
      "celsius to fahrenheit 86.0\n"
     ]
    }
   ],
   "source": [
    "temp=input(\"fahrenheit or celsius\")\n",
    "match temp:\n",
    "    case \"celsius\":\n",
    "        c=int(input())\n",
    "        print(\"celsius to fahrenheit\",((9/5)*c)+32)\n",
    "    case \"fahrenheit\":\n",
    "        f=int(input())\n",
    "        print(\"fahrenheit to celsius\",(5/9)*(f-32))"
   ]
  },
  {
   "cell_type": "code",
   "execution_count": null,
   "id": "7db1873f",
   "metadata": {},
   "outputs": [
    {
     "name": "stdout",
     "output_type": "stream",
     "text": [
      "54\n"
     ]
    }
   ],
   "source": [
    "list1=[12,11,54,37,42]\n",
    "max=0\n",
    "for i in range(1,len(list1)):\n",
    "    if(list1[i]>max):\n",
    "        max=list1[i]\n",
    "print(max)\n"
   ]
  },
  {
   "cell_type": "code",
   "execution_count": null,
   "id": "2713ac0c",
   "metadata": {},
   "outputs": [
    {
     "name": "stdout",
     "output_type": "stream",
     "text": [
      "Simple Interest 100.0\n"
     ]
    }
   ],
   "source": [
    "p=int(input())\n",
    "t=int(input())\n",
    "r=int(input())\n",
    "print(\"Simple Interest\",(p*t*r)/100)"
   ]
  },
  {
   "cell_type": "code",
   "execution_count": null,
   "id": "aff59c57",
   "metadata": {},
   "outputs": [
    {
     "name": "stdout",
     "output_type": "stream",
     "text": [
      "15\n"
     ]
    }
   ],
   "source": [
    "n=int(input())\n",
    "sum=0\n",
    "while n>0:\n",
    "    rem=n%10\n",
    "    sum=sum+rem\n",
    "    n=n//10\n",
    "print(sum)\n",
    "\n"
   ]
  },
  {
   "cell_type": "code",
   "execution_count": null,
   "id": "f22b24ab",
   "metadata": {},
   "outputs": [
    {
     "name": "stdout",
     "output_type": "stream",
     "text": [
      "it is Prime\n"
     ]
    }
   ],
   "source": [
    "def isprime(n):\n",
    "   if(n<=1):\n",
    "       return False\n",
    "   for i in range(2,n):\n",
    "        if(n%i==0):\n",
    "            return False\n",
    "   return True\n",
    "n=int(input())\n",
    "if(isprime(n)):\n",
    "    print(\"it is Prime\")\n",
    "else:\n",
    "    print(\"it is not prime\")\n",
    "    \n",
    "        "
   ]
  },
  {
   "cell_type": "code",
   "execution_count": null,
   "id": "5a0289f0",
   "metadata": {},
   "outputs": [
    {
     "ename": "TypeError",
     "evalue": "int() argument must be a string, a bytes-like object or a real number, not 'list'",
     "output_type": "error",
     "traceback": [
      "\u001b[31m---------------------------------------------------------------------------\u001b[39m",
      "\u001b[31mTypeError\u001b[39m                                 Traceback (most recent call last)",
      "\u001b[36mCell\u001b[39m\u001b[36m \u001b[39m\u001b[32mIn[27]\u001b[39m\u001b[32m, line 1\u001b[39m\n\u001b[32m----> \u001b[39m\u001b[32m1\u001b[39m l = \u001b[38;5;28mlist\u001b[39m(\u001b[38;5;28;43mint\u001b[39;49m\u001b[43m(\u001b[49m\u001b[38;5;28;43minput\u001b[39;49m\u001b[43m(\u001b[49m\u001b[43m)\u001b[49m\u001b[43m.\u001b[49m\u001b[43msplit\u001b[49m\u001b[43m(\u001b[49m\u001b[43m)\u001b[49m\u001b[43m)\u001b[49m)\n\u001b[32m      2\u001b[39m \u001b[38;5;28mprint\u001b[39m(\u001b[38;5;28mmin\u001b[39m(l), \u001b[38;5;28mmax\u001b[39m(l))\n",
      "\u001b[31mTypeError\u001b[39m: int() argument must be a string, a bytes-like object or a real number, not 'list'"
     ]
    }
   ],
   "source": []
  },
  {
   "cell_type": "code",
   "execution_count": 1,
   "id": "98278439",
   "metadata": {},
   "outputs": [
    {
     "name": "stdout",
     "output_type": "stream",
     "text": [
      "60\n",
      "10\n"
     ]
    }
   ],
   "source": [
    "'''11. Problem: Find smallest and largest numbers from a list.'''\n",
    "list1=[10,20,30,60,12]\n",
    "print(max(list1))\n",
    "print(min(list1))\n"
   ]
  },
  {
   "cell_type": "code",
   "execution_count": 2,
   "id": "7219b518",
   "metadata": {},
   "outputs": [
    {
     "name": "stdout",
     "output_type": "stream",
     "text": [
      "55\n"
     ]
    }
   ],
   "source": [
    "'''2. Problem: Given items with prices in a dictionary, calculate total bill.'''\n",
    "items={\n",
    "    \"banana\":20,\n",
    "    \"apple\":10,\n",
    "    \"orange\":25\n",
    "    }\n",
    "bill=sum(items.values())\n",
    "print(bill)"
   ]
  },
  {
   "cell_type": "code",
   "execution_count": 4,
   "id": "b5071642",
   "metadata": {},
   "outputs": [
    {
     "name": "stdout",
     "output_type": "stream",
     "text": [
      "81 is max\n"
     ]
    }
   ],
   "source": [
    "a=int(input())\n",
    "b=int(input())\n",
    "c=int(input())\n",
    "if a>=b and a>=c:\n",
    "    print(a,\"is max\")\n",
    "elif b>=c:\n",
    "    print(b,\"is max\")\n",
    "else:\n",
    "    print(c,\"is max\")"
   ]
  },
  {
   "cell_type": "code",
   "execution_count": 8,
   "id": "cf9db7cb",
   "metadata": {},
   "outputs": [
    {
     "name": "stdout",
     "output_type": "stream",
     "text": [
      "Counter({'o': 2, ' ': 2, 'h': 1, 'w': 1, 'a': 1, 'r': 1, 'e': 1, 'y': 1, 'u': 1})\n"
     ]
    }
   ],
   "source": [
    "'''Count how many times each character appears in a string.'''\n",
    "import collections\n",
    "str=input()\n",
    "print(collections.Counter(str))\n"
   ]
  },
  {
   "cell_type": "code",
   "execution_count": 9,
   "id": "857a0c72",
   "metadata": {},
   "outputs": [
    {
     "name": "stdout",
     "output_type": "stream",
     "text": [
      "['ekbote', 'keerthi', 'shavanta', 'vignesh']\n"
     ]
    }
   ],
   "source": [
    "list1=[\"keerthi\",\"ekbote\",\"shavanta\",\"vignesh\"]\n",
    "print(sorted(list1))"
   ]
  },
  {
   "cell_type": "code",
   "execution_count": 21,
   "id": "2a603ba2",
   "metadata": {},
   "outputs": [
    {
     "ename": "TypeError",
     "evalue": "'str' object is not callable",
     "output_type": "error",
     "traceback": [
      "\u001b[31m---------------------------------------------------------------------------\u001b[39m",
      "\u001b[31mTypeError\u001b[39m                                 Traceback (most recent call last)",
      "\u001b[36mCell\u001b[39m\u001b[36m \u001b[39m\u001b[32mIn[21]\u001b[39m\u001b[32m, line 5\u001b[39m\n\u001b[32m      3\u001b[39m \u001b[38;5;28;01mwhile\u001b[39;00m n>\u001b[32m0\u001b[39m:\n\u001b[32m      4\u001b[39m     rem=n%\u001b[32m10\u001b[39m\n\u001b[32m----> \u001b[39m\u001b[32m5\u001b[39m     a= \u001b[38;5;28;43mstr\u001b[39;49m\u001b[43m(\u001b[49m\u001b[43mrem\u001b[49m\u001b[43m)\u001b[49m\n\u001b[32m      6\u001b[39m     str1=str1+a\n\u001b[32m      7\u001b[39m     n=n//\u001b[32m10\u001b[39m\n",
      "\u001b[31mTypeError\u001b[39m: 'str' object is not callable"
     ]
    }
   ],
   "source": [
    "n=int(input())\n",
    "str1=\" \"\n",
    "while n>0:\n",
    "    rem=n%10\n",
    "    a= str(rem)\n",
    "    str1=str1+a\n",
    "    n=n//10\n",
    "print(str1)\n"
   ]
  },
  {
   "cell_type": "code",
   "execution_count": null,
   "id": "4bab289f",
   "metadata": {},
   "outputs": [
    {
     "ename": "TypeError",
     "evalue": "'int' object is not subscriptable",
     "output_type": "error",
     "traceback": [
      "\u001b[31m---------------------------------------------------------------------------\u001b[39m",
      "\u001b[31mTypeError\u001b[39m                                 Traceback (most recent call last)",
      "\u001b[36mCell\u001b[39m\u001b[36m \u001b[39m\u001b[32mIn[19]\u001b[39m\u001b[32m, line 2\u001b[39m\n\u001b[32m      1\u001b[39m n=\u001b[38;5;28mint\u001b[39m(\u001b[38;5;28minput\u001b[39m())\n\u001b[32m----> \u001b[39m\u001b[32m2\u001b[39m \u001b[38;5;28mprint\u001b[39m(\u001b[43mn\u001b[49m\u001b[43m[\u001b[49m\u001b[43m:\u001b[49m\u001b[43m:\u001b[49m\u001b[43m-\u001b[49m\u001b[32;43m1\u001b[39;49m\u001b[43m]\u001b[49m)\n",
      "\u001b[31mTypeError\u001b[39m: 'int' object is not subscriptable"
     ]
    }
   ],
   "source": [
    "n=int(input())\n",
    "print(n[::-1])"
   ]
  },
  {
   "cell_type": "code",
   "execution_count": 24,
   "id": "1cc168ca",
   "metadata": {},
   "outputs": [
    {
     "name": "stdout",
     "output_type": "stream",
     "text": [
      "zero number\n"
     ]
    }
   ],
   "source": [
    "n=int(input())\n",
    "if n>0:\n",
    "    print(\"positive\")\n",
    "elif n<0:\n",
    "    print(\"negative\")\n",
    "else:\n",
    "    print(\"zero number\")"
   ]
  },
  {
   "cell_type": "code",
   "execution_count": 26,
   "id": "97297a6d",
   "metadata": {},
   "outputs": [
    {
     "name": "stdout",
     "output_type": "stream",
     "text": [
      "Please enter valid integers only.\n"
     ]
    }
   ],
   "source": [
    "try:\n",
    "    a = int(input(\"Enter numerator: \"))\n",
    "    b = int(input(\"Enter denominator: \"))\n",
    "    result = a / b\n",
    "    print(\"Result =\", result)\n",
    "\n",
    "except ValueError:\n",
    "    print(\"Please enter valid integers only.\")\n",
    "\n",
    "except ZeroDivisionError:\n",
    "    print(\"Denominator cannot be zero.\")\n"
   ]
  },
  {
   "cell_type": "code",
   "execution_count": null,
   "id": "2267d074",
   "metadata": {},
   "outputs": [],
   "source": []
  }
 ],
 "metadata": {
  "kernelspec": {
   "display_name": "Python 3",
   "language": "python",
   "name": "python3"
  },
  "language_info": {
   "codemirror_mode": {
    "name": "ipython",
    "version": 3
   },
   "file_extension": ".py",
   "mimetype": "text/x-python",
   "name": "python",
   "nbconvert_exporter": "python",
   "pygments_lexer": "ipython3",
   "version": "3.11.0"
  }
 },
 "nbformat": 4,
 "nbformat_minor": 5
}
